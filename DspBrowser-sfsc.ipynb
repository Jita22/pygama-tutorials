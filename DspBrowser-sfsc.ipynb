{
 "cells": [
  {
   "cell_type": "markdown",
   "id": "ef9f20a1-74d2-4aed-9ff1-b2ce86b138b8",
   "metadata": {},
   "source": [
    "# Looking at the dsp file\n",
    "\n",
    "Jita (06 Feb 2023)"
   ]
  },
  {
   "cell_type": "code",
   "execution_count": 11,
   "id": "3c9c5cd9-4e61-4c9f-91c2-dde97118d633",
   "metadata": {},
   "outputs": [],
   "source": [
    "# Set up python environment\n",
    "from pygama.raw.build_raw import build_raw\n",
    "from pygama.dsp import build_dsp\n",
    "#from pygama.lgdo import ls\n",
    "import pygama.lgdo.lh5_store as lh5 \n",
    "from pygama.vis.waveform_browser import WaveformBrowser\n",
    "\n",
    "dsp_file = \"/global/cscratch1/sd/jita/LGND-Data/r010/dsp/l200-p02-r010-cal-20230126T023019Z-tier_dsp.lh5\""
   ]
  },
  {
   "cell_type": "markdown",
   "id": "e5db9850-4a02-422b-a7bf-b5ecd46a33cd",
   "metadata": {},
   "source": [
    "## Inspecting the dsp file"
   ]
  },
  {
   "cell_type": "code",
   "execution_count": null,
   "id": "bfd73bdc-1944-4697-9832-e60e14a79bf1",
   "metadata": {},
   "outputs": [
    {
     "name": "stdout",
     "output_type": "stream",
     "text": [
      "List of dsp file elements:\n"
     ]
    },
    {
     "data": {
      "text/plain": [
       "['ch000',\n",
       " 'ch001',\n",
       " 'ch004',\n",
       " 'ch005',\n",
       " 'ch006',\n",
       " 'ch007',\n",
       " 'ch008',\n",
       " 'ch009',\n",
       " 'ch010',\n",
       " 'ch012',\n",
       " 'ch013',\n",
       " 'ch018',\n",
       " 'ch019',\n",
       " 'ch020',\n",
       " 'ch021',\n",
       " 'ch022',\n",
       " 'ch023',\n",
       " 'ch024',\n",
       " 'ch025',\n",
       " 'ch030',\n",
       " 'ch031',\n",
       " 'ch032',\n",
       " 'ch034',\n",
       " 'ch035',\n",
       " 'ch036',\n",
       " 'ch037',\n",
       " 'ch038',\n",
       " 'ch039',\n",
       " 'ch040',\n",
       " 'ch041',\n",
       " 'ch042',\n",
       " 'ch043',\n",
       " 'ch044',\n",
       " 'ch045',\n",
       " 'ch046',\n",
       " 'ch049',\n",
       " 'ch050',\n",
       " 'ch053',\n",
       " 'ch054',\n",
       " 'ch055',\n",
       " 'ch056',\n",
       " 'ch057',\n",
       " 'ch060',\n",
       " 'ch061',\n",
       " 'ch062',\n",
       " 'ch063',\n",
       " 'ch064',\n",
       " 'ch065',\n",
       " 'ch066',\n",
       " 'ch067',\n",
       " 'ch068',\n",
       " 'ch069',\n",
       " 'ch070',\n",
       " 'ch071',\n",
       " 'ch072',\n",
       " 'ch073',\n",
       " 'ch074',\n",
       " 'ch075',\n",
       " 'ch076',\n",
       " 'ch081',\n",
       " 'ch082',\n",
       " 'ch083',\n",
       " 'ch086',\n",
       " 'ch087',\n",
       " 'ch088',\n",
       " 'ch089',\n",
       " 'ch090',\n",
       " 'ch091',\n",
       " 'ch092',\n",
       " 'ch093',\n",
       " 'ch095',\n",
       " 'ch096',\n",
       " 'ch097',\n",
       " 'ch098',\n",
       " 'ch099',\n",
       " 'ch100',\n",
       " 'ch101',\n",
       " 'ch102',\n",
       " 'ch103',\n",
       " 'ch104',\n",
       " 'ch105',\n",
       " 'ch106',\n",
       " 'ch107',\n",
       " 'ch109',\n",
       " 'ch110',\n",
       " 'ch111',\n",
       " 'ch113',\n",
       " 'ch114',\n",
       " 'ch115',\n",
       " 'ch118',\n",
       " 'ch119',\n",
       " 'ch121',\n",
       " 'dsp_info']"
      ]
     },
     "execution_count": 12,
     "metadata": {},
     "output_type": "execute_result"
    }
   ],
   "source": [
    "print(\"List of dsp file elements:\")\n",
    "lh5.ls(dsp_file)"
   ]
  },
  {
   "cell_type": "code",
   "execution_count": 13,
   "id": "8b202088-87be-46fe-8685-486b40597961",
   "metadata": {},
   "outputs": [
    {
     "name": "stdout",
     "output_type": "stream",
     "text": [
      "Inside the channels:\n"
     ]
    },
    {
     "data": {
      "text/plain": [
       "['ch004/dsp']"
      ]
     },
     "execution_count": 13,
     "metadata": {},
     "output_type": "execute_result"
    }
   ],
   "source": [
    "print(\"Inside the channels:\")\n",
    "lh5.ls(dsp_file,'ch004/')"
   ]
  },
  {
   "cell_type": "code",
   "execution_count": 15,
   "id": "50348e08-bef9-4603-ae04-c9d1eacc2bda",
   "metadata": {},
   "outputs": [
    {
     "name": "stdout",
     "output_type": "stream",
     "text": [
      "Inside the dsp tier:\n"
     ]
    },
    {
     "data": {
      "text/plain": [
       "['ch004/dsp/A_max',\n",
       " 'ch004/dsp/QDrift',\n",
       " 'ch004/dsp/baseline',\n",
       " 'ch004/dsp/bl_intercept',\n",
       " 'ch004/dsp/bl_mean',\n",
       " 'ch004/dsp/bl_slope',\n",
       " 'ch004/dsp/bl_std',\n",
       " 'ch004/dsp/cuspEftp',\n",
       " 'ch004/dsp/cuspEmax',\n",
       " 'ch004/dsp/dt_eff',\n",
       " 'ch004/dsp/dt_eff_invert',\n",
       " 'ch004/dsp/lq80',\n",
       " 'ch004/dsp/pz_mean',\n",
       " 'ch004/dsp/pz_slope',\n",
       " 'ch004/dsp/pz_std',\n",
       " 'ch004/dsp/t_discharge',\n",
       " 'ch004/dsp/t_sat_hi',\n",
       " 'ch004/dsp/t_sat_lo',\n",
       " 'ch004/dsp/timestamp',\n",
       " 'ch004/dsp/tp_01',\n",
       " 'ch004/dsp/tp_0_atrap',\n",
       " 'ch004/dsp/tp_0_est',\n",
       " 'ch004/dsp/tp_0_invert',\n",
       " 'ch004/dsp/tp_10',\n",
       " 'ch004/dsp/tp_100',\n",
       " 'ch004/dsp/tp_100_invert',\n",
       " 'ch004/dsp/tp_10_invert',\n",
       " 'ch004/dsp/tp_20',\n",
       " 'ch004/dsp/tp_20_invert',\n",
       " 'ch004/dsp/tp_50',\n",
       " 'ch004/dsp/tp_50_invert',\n",
       " 'ch004/dsp/tp_80',\n",
       " 'ch004/dsp/tp_80_invert',\n",
       " 'ch004/dsp/tp_90',\n",
       " 'ch004/dsp/tp_90_invert',\n",
       " 'ch004/dsp/tp_95',\n",
       " 'ch004/dsp/tp_99',\n",
       " 'ch004/dsp/tp_99_invert',\n",
       " 'ch004/dsp/tp_aoe_max',\n",
       " 'ch004/dsp/tp_max',\n",
       " 'ch004/dsp/tp_min',\n",
       " 'ch004/dsp/trapEftp',\n",
       " 'ch004/dsp/trapEmax',\n",
       " 'ch004/dsp/trapSmax',\n",
       " 'ch004/dsp/trapTftp_invert',\n",
       " 'ch004/dsp/trapTmax',\n",
       " 'ch004/dsp/trapTmax_invert',\n",
       " 'ch004/dsp/wf_max',\n",
       " 'ch004/dsp/wf_min',\n",
       " 'ch004/dsp/zacEftp',\n",
       " 'ch004/dsp/zacEmax']"
      ]
     },
     "execution_count": 15,
     "metadata": {},
     "output_type": "execute_result"
    }
   ],
   "source": [
    "print(\"Inside the dsp tier:\")\n",
    "lh5.ls(dsp_file,'ch004/dsp/')"
   ]
  },
  {
   "cell_type": "code",
   "execution_count": 20,
   "id": "56dca868-639b-4b9e-9729-c9c167ee32d6",
   "metadata": {},
   "outputs": [
    {
     "name": "stdout",
     "output_type": "stream",
     "text": [
      "      baseline  bl_intercept    bl_mean  bl_slope     bl_std      cuspEmax  \\\n",
      "0        14989      5.851315   6.945365  0.004726  12.829613   1343.910645   \n",
      "1        15006     -1.179030   4.102017  0.022812  14.463848   1812.636719   \n",
      "2        15016     13.394149   9.743895 -0.015768  12.892673   2143.152832   \n",
      "3        14989    -18.165699 -16.361650  0.007793  14.391339  13557.747070   \n",
      "4        15143     75.680489  67.845558 -0.033844  15.437946   8289.408203   \n",
      "...        ...           ...        ...       ...        ...           ...   \n",
      "3538     15020    -22.823772 -16.820370  0.025933  13.622515    951.991150   \n",
      "3539     14990      4.736751   6.820403  0.009001  14.554058    827.573669   \n",
      "3540     15006    -14.283153 -17.115646 -0.012235  12.894878  10988.508789   \n",
      "3541     15007     -0.098040   4.173441  0.018451  14.943836    857.763611   \n",
      "3542     15028      5.275139   5.689616  0.001790  12.215830    812.953186   \n",
      "\n",
      "         timestamp      trapEmax       zacEmax  \n",
      "0     1.674705e+09   1345.352783   1349.838867  \n",
      "1     1.674705e+09   1813.924316   1817.704590  \n",
      "2     1.674705e+09   2145.965332   2151.757324  \n",
      "3     1.674705e+09  13571.099609  13608.083984  \n",
      "4     1.674705e+09   8301.173828   8327.196289  \n",
      "...            ...           ...           ...  \n",
      "3538  1.674705e+09    952.668518    956.254272  \n",
      "3539  1.674705e+09    828.189331    831.544128  \n",
      "3540  1.674705e+09  11001.404297  11031.458984  \n",
      "3541  1.674705e+09    856.891296    859.860352  \n",
      "3542  1.674705e+09    812.689148    812.849976  \n",
      "\n",
      "[3543 rows x 9 columns]\n"
     ]
    }
   ],
   "source": [
    "df = lh5.load_dfs(dsp_file, ['baseline','bl_intercept','bl_mean','bl_slope','bl_std','cuspEmax','timestamp','trapEmax','zacEmax'], 'ch004/dsp')\n",
    "print(df)"
   ]
  },
  {
   "cell_type": "code",
   "execution_count": 30,
   "id": "0d9a425d-4e18-4b08-b4a8-0eb7f7f05f9a",
   "metadata": {},
   "outputs": [
    {
     "data": {
      "image/png": "[encoded data removed]",
      "text/plain": [
       "<Figure size 640x480 with 1 Axes>"
      ]
     },
     "metadata": {},
     "output_type": "display_data"
    }
   ],
   "source": [
    "import matplotlib.pyplot as plt\n",
    "%matplotlib inline\n",
    "trapEmax = df['trapEmax']\n",
    "energy_selection = (trapEmax>15000) & (trapEmax<15500)\n",
    "# making subplots\n",
    "trapEmax.plot.hist(grid=False, bins=1000, range=(0, 30000),rwidth=1.,color='coral')\n",
    "trapEmax[energy_selection].plot.hist(grid=False, bins=1000, range=(0, 30000),rwidth=1.,color='blue')\n",
    "plt.yscale('log')"
   ]
  }
 ],
 "metadata": {
  "kernelspec": {
   "display_name": "legend-base",
   "language": "python",
   "name": "legend-base"
  },
  "language_info": {
   "codemirror_mode": {
    "name": "ipython",
    "version": 3
   },
   "file_extension": ".py",
   "mimetype": "text/x-python",
   "name": "python",
   "nbconvert_exporter": "python",
   "pygments_lexer": "ipython3",
   "version": "3.9.15"
  }
 },
 "nbformat": 4,
 "nbformat_minor": 5
}
