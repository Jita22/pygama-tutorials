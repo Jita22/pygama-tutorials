{
 "cells": [
  {
   "cell_type": "markdown",
   "id": "ef9f20a1-74d2-4aed-9ff1-b2ce86b138b8",
   "metadata": {},
   "source": [
    "# Looking at waveforms using cuts on other tiers\n",
    "\n",
    "Use the legend-sw kernel<br>\n",
    "\n",
    "Jita (06 Feb 2023)"
   ]
  },
  {
   "cell_type": "code",
   "execution_count": 1,
   "id": "3c9c5cd9-4e61-4c9f-91c2-dde97118d633",
   "metadata": {},
   "outputs": [],
   "source": [
    "# Set up python environment\n",
    "from pygama.raw.build_raw import build_raw\n",
    "from pygama.dsp import build_dsp\n",
    "#from pygama.lgdo import ls\n",
    "import pygama.lgdo.lh5_store as lh5 \n",
    "from pygama.vis.waveform_browser import WaveformBrowser\n",
    "\n",
    "hit_file = \"/global/cscratch1/sd/jita/LGND-Data/r010/hit/l200-p02-r010-cal-20230126T023019Z-tier_hit.lh5\"\n",
    "raw_file = \"/global/cscratch1/sd/jita/LGND-Data/r010/raw/l200-p02-r010-cal-20230126T023019Z-tier_raw.lh5\"\n",
    "dsp_file = \"/global/cscratch1/sd/jita/LGND-Data/r010/dsp/l200-p02-r010-cal-20230126T023019Z-tier_dsp.lh5\""
   ]
  },
  {
   "cell_type": "markdown",
   "id": "e5db9850-4a02-422b-a7bf-b5ecd46a33cd",
   "metadata": {},
   "source": [
    "## Inspecting the dsp file"
   ]
  },
  {
   "cell_type": "code",
   "execution_count": 2,
   "id": "56dca868-639b-4b9e-9729-c9c167ee32d6",
   "metadata": {},
   "outputs": [
    {
     "name": "stdout",
     "output_type": "stream",
     "text": [
      "      baseline  daqenergy  eventnumber  packet_id     runtime\n",
      "0        14989       1928           24        310    0.470211\n",
      "1        15006       2598           49        616    0.522526\n",
      "2        15016       3076           72        896    0.573396\n",
      "3        14989      19450           77        952    0.587104\n",
      "4        15143      11898           78        966    0.589458\n",
      "...        ...        ...          ...        ...         ...\n",
      "3538     15020       1364        79913     976664  175.831585\n",
      "3539     14990       1189        79940     976996  175.893094\n",
      "3540     15006      15766        79989     977586  176.000608\n",
      "3541     15007       1229        80001     977732  176.021772\n",
      "3542     15028       1163        80005     977790  176.030559\n",
      "\n",
      "[3543 rows x 5 columns]\n",
      "      baseline  bl_intercept    bl_mean  bl_slope     bl_std      cuspEmax  \\\n",
      "0        14989      5.851315   6.945365  0.004726  12.829613   1343.910645   \n",
      "1        15006     -1.179030   4.102017  0.022812  14.463848   1812.636719   \n",
      "2        15016     13.394149   9.743895 -0.015768  12.892673   2143.152832   \n",
      "3        14989    -18.165699 -16.361650  0.007793  14.391339  13557.747070   \n",
      "4        15143     75.680489  67.845558 -0.033844  15.437946   8289.408203   \n",
      "...        ...           ...        ...       ...        ...           ...   \n",
      "3538     15020    -22.823772 -16.820370  0.025933  13.622515    951.991150   \n",
      "3539     14990      4.736751   6.820403  0.009001  14.554058    827.573669   \n",
      "3540     15006    -14.283153 -17.115646 -0.012235  12.894878  10988.508789   \n",
      "3541     15007     -0.098040   4.173441  0.018451  14.943836    857.763611   \n",
      "3542     15028      5.275139   5.689616  0.001790  12.215830    812.953186   \n",
      "\n",
      "         timestamp      trapEmax       zacEmax  \n",
      "0     1.674705e+09   1345.352783   1349.838867  \n",
      "1     1.674705e+09   1813.924316   1817.704590  \n",
      "2     1.674705e+09   2145.965332   2151.757324  \n",
      "3     1.674705e+09  13571.099609  13608.083984  \n",
      "4     1.674705e+09   8301.173828   8327.196289  \n",
      "...            ...           ...           ...  \n",
      "3538  1.674705e+09    952.668518    956.254272  \n",
      "3539  1.674705e+09    828.189331    831.544128  \n",
      "3540  1.674705e+09  11001.404297  11031.458984  \n",
      "3541  1.674705e+09    856.891296    859.860352  \n",
      "3542  1.674705e+09    812.689148    812.849976  \n",
      "\n",
      "[3543 rows x 9 columns]\n",
      "      AoE_Classifier  AoE_Corrected  AoE_Double_Sided_Cut  AoE_Low_Cut  \\\n",
      "0          -0.109329      -0.005396                  True         True   \n",
      "1         -13.981805      -0.514144                 False        False   \n",
      "2          -0.451076      -0.014087                  True         True   \n",
      "3         -18.300245      -0.130372                 False        False   \n",
      "4         -16.393005      -0.155933                 False        False   \n",
      "...              ...            ...                   ...          ...   \n",
      "3538       -0.665778      -0.046229                  True         True   \n",
      "3539       -0.222621      -0.017765                  True         True   \n",
      "3540        0.319222       0.002536                  True         True   \n",
      "3541        1.043146       0.080334                  True         True   \n",
      "3542       -0.899037      -0.073027                  True         True   \n",
      "\n",
      "      cuspEftp_ctc_cal  cuspEmax_ctc_cal  is_negative  is_saturated  \\\n",
      "0           208.297349        208.566750        False         False   \n",
      "1           281.022720        281.243400        False         False   \n",
      "2           332.342090        332.508746        False         False   \n",
      "3          2102.342497       2102.491933        False         False   \n",
      "4          1285.265555       1285.495217        False         False   \n",
      "...                ...               ...          ...           ...   \n",
      "3538        147.565282        147.812950        False         False   \n",
      "3539        128.156282        128.518884        False         False   \n",
      "3540       1703.937849       1704.034892        False         False   \n",
      "3541        132.812635        133.197339        False         False   \n",
      "3542        126.021411        126.251873        False         False   \n",
      "\n",
      "      is_valid_0vbb  is_valid_cal     timestamp  trapEmax_ctc_cal  \\\n",
      "0              True          True  1.674705e+09        208.452124   \n",
      "1              True          True  1.674705e+09        281.033904   \n",
      "2              True          True  1.674705e+09        332.485887   \n",
      "3              True          True  1.674705e+09       2102.377488   \n",
      "4              True         False  1.674705e+09       1285.928941   \n",
      "...             ...           ...           ...               ...   \n",
      "3538           True          True  1.674705e+09        147.639545   \n",
      "3539           True          True  1.674705e+09        128.354677   \n",
      "3540           True          True  1.674705e+09       1704.236151   \n",
      "3541           True          True  1.674705e+09        132.798056   \n",
      "3542           True          True  1.674705e+09        125.953636   \n",
      "\n",
      "      trapTmax_cal  zacEftp_ctc_cal  zacEmax_ctc_cal  \n",
      "0       208.557594       208.238616       208.290123  \n",
      "1       280.877484       280.581972       280.577138  \n",
      "2       332.543863       332.283298       332.210236  \n",
      "3      2102.160589      2102.225922      2102.406028  \n",
      "4      1286.003579      1286.226312      1286.338837  \n",
      "...            ...              ...              ...  \n",
      "3538    147.772739       147.472128       147.495600  \n",
      "3539    128.560673       127.998711       128.224071  \n",
      "3540   1704.021052      1704.117701      1704.202851  \n",
      "3541    132.935246       132.281177       132.596220  \n",
      "3542    125.910304       125.346292       125.335789  \n",
      "\n",
      "[3543 rows x 15 columns]\n"
     ]
    }
   ],
   "source": [
    "raw_df = lh5.load_dfs(raw_file, ['baseline','daqenergy','eventnumber','packet_id','runtime'], 'ch004/raw')\n",
    "print(raw_df)\n",
    "dsp_df = lh5.load_dfs(dsp_file, ['baseline','bl_intercept','bl_mean','bl_slope','bl_std','cuspEmax','timestamp','trapEmax','zacEmax'], 'ch004/dsp')\n",
    "print(dsp_df)\n",
    "hit_df = lh5.load_dfs(hit_file, ['AoE_Classifier','AoE_Corrected','AoE_Double_Sided_Cut','AoE_Low_Cut','cuspEftp_ctc_cal','cuspEmax_ctc_cal','is_negative','is_saturated','is_valid_0vbb','is_valid_cal','timestamp','trapEmax_ctc_cal','trapTmax_cal','zacEftp_ctc_cal','zacEmax_ctc_cal'], 'ch004/hit')\n",
    "print(hit_df)"
   ]
  },
  {
   "cell_type": "code",
   "execution_count": null,
   "id": "0d9a425d-4e18-4b08-b4a8-0eb7f7f05f9a",
   "metadata": {},
   "outputs": [],
   "source": [
    "import matplotlib.pyplot as plt\n",
    "%matplotlib inline\n",
    "cuspEmax_ctc_cal = hit_df['cuspEmax_ctc_cal']\n",
    "energy_selection = (cuspEmax_ctc_cal >= 2610) & (cuspEmax_ctc_cal < 2620)\n",
    "cuspEmax_ctc_cal.plot.hist(grid=False, bins=1000, range=(0, 3000),rwidth=1.,color='coral')\n",
    "cuspEmax_ctc_cal[energy_selection].plot.hist(grid=False, bins=1000, range=(0, 3000),rwidth=1.,color='blue')\n",
    "plt.yscale('log')"
   ]
  },
  {
   "cell_type": "code",
   "execution_count": null,
   "id": "265fb4e0-5f8a-44fb-a51e-cfc4399103b0",
   "metadata": {},
   "outputs": [],
   "source": [
    "# Now construct a WaveformBrowser with this cut\n",
    "browser = WaveformBrowser(raw_file,\n",
    "                          'ch004/raw',\n",
    "                          aux_values=hit_df,\n",
    "                          legend=\"E = {cuspEmax_ctc_cal}\",\n",
    "                          entry_mask=energy_selection,\n",
    "                          n_drawn =5,\n",
    "                          y_lim=(10000,50000),\n",
    "                          x_lim=(47000,50000))"
   ]
  },
  {
   "cell_type": "code",
   "execution_count": null,
   "id": "42a3f84b-81af-4503-8e66-84c40e1195ac",
   "metadata": {},
   "outputs": [],
   "source": [
    "# Draw the next 3 batches of 5 waveforms\n",
    "for entries, i in zip(browser, range(2)):\n",
    "    print(\"Entries:\", entries)\n",
    "    browser.new_figure()"
   ]
  },
  {
   "cell_type": "code",
   "execution_count": null,
   "id": "dadbb4e4-16c2-413f-b68d-cfe4ceae4f28",
   "metadata": {},
   "outputs": [],
   "source": []
  }
 ],
 "metadata": {
  "kernelspec": {
   "display_name": "legend-sw",
   "language": "python",
   "name": "legend-sw"
  },
  "language_info": {
   "codemirror_mode": {
    "name": "ipython",
    "version": 3
   },
   "file_extension": ".py",
   "mimetype": "text/x-python",
   "name": "python",
   "nbconvert_exporter": "python",
   "pygments_lexer": "ipython3",
   "version": "3.9.15"
  }
 },
 "nbformat": 4,
 "nbformat_minor": 5
}
